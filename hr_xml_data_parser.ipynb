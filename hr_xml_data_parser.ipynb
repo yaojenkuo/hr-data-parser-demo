{
  "nbformat": 4,
  "nbformat_minor": 0,
  "metadata": {
    "colab": {
      "name": "hr_xml_data_parser.ipynb",
      "provenance": [],
      "collapsed_sections": []
    },
    "kernelspec": {
      "name": "python3",
      "display_name": "Python 3"
    }
  },
  "cells": [
    {
      "cell_type": "markdown",
      "metadata": {
        "id": "65CdSi4R97C5",
        "colab_type": "text"
      },
      "source": [
        "## HR xml data parser demo\n",
        "\n",
        "1. Copy all in `資料.docx` and paste into `xml_demo.xml`\n",
        "2. Put `xml_demo.xml` and `hr_xml_data_parser.ipynb` in the same folder\n",
        "3. Restart & Run all cells"
      ]
    },
    {
      "cell_type": "code",
      "metadata": {
        "id": "He9PMOff1dhr",
        "colab_type": "code",
        "colab": {}
      },
      "source": [
        "from lxml import etree\n",
        "from bs4 import BeautifulSoup\n",
        "\n",
        "tree = etree.parse('xml_demo.xml')\n",
        "html_str = \"\"\"\"\"\"\n",
        "for i in tree.xpath(\"//COLUMN[@NAME='HTML']\"):\n",
        "    html_str += i.text\n",
        "soup = BeautifulSoup(html_str)\n",
        "for e in soup.select(\"td .MsoNormal\"):\n",
        "    print(e.text)"
      ],
      "execution_count": 0,
      "outputs": []
    }
  ]
}